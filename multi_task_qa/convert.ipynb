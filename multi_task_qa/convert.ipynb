{
 "cells": [
  {
   "cell_type": "markdown",
   "id": "81a8c677",
   "metadata": {},
   "source": [
    "# convert_bio"
   ]
  },
  {
   "cell_type": "code",
   "execution_count": null,
   "id": "b5412a8d",
   "metadata": {},
   "outputs": [],
   "source": [
    "import json\n",
    "f = open('./task_datasets/covidner/dev.json', 'r')\n",
    "out = open('./task_datasets/covidner/dev.csv', 'w')\n",
    "for line in f.readlines():\n",
    "    json_obj = json.loads(line)\n",
    "    sentence = \" \".join(json_obj[\"tokens\"]).replace(\",\",\";\")\n",
    "    tags = \" \".join(json_obj[\"ner_tags\"])\n",
    "    final = sentence + ',' + tags\n",
    "    out.write(final)\n",
    "    out.write(\"\\n\")\n",
    "out.close()"
   ]
  },
  {
   "cell_type": "code",
   "execution_count": null,
   "id": "c8963637",
   "metadata": {},
   "outputs": [],
   "source": [
    "\" \".join(json_obj[\"tokens\"]).replace(\",\",\";\")"
   ]
  },
  {
   "cell_type": "code",
   "execution_count": null,
   "id": "d79f40ce",
   "metadata": {},
   "outputs": [],
   "source": [
    "len(tags.split())"
   ]
  },
  {
   "cell_type": "code",
   "execution_count": null,
   "id": "abc219a2",
   "metadata": {},
   "outputs": [],
   "source": [
    "sentence"
   ]
  },
  {
   "cell_type": "markdown",
   "id": "b8f4bc5a",
   "metadata": {},
   "source": [
    "# convert qa"
   ]
  },
  {
   "cell_type": "code",
   "execution_count": null,
   "id": "4a223a4c",
   "metadata": {},
   "outputs": [],
   "source": [
    "import json\n",
    "\n",
    "def load(file_name):\n",
    "    with open(file_name,'r') as f:\n",
    "        data = json.load(f)\n",
    "        return data\n",
    "\n",
    "file_name = \"./task_datasets/squad1/dev-v1.1.json\"\n",
    "out = open('./task_datasets/squad1/dev-v1.1.csv', 'w')\n",
    "json_obj = load(file_name)"
   ]
  },
  {
   "cell_type": "code",
   "execution_count": null,
   "id": "fa2f1210",
   "metadata": {},
   "outputs": [],
   "source": [
    "from transformers import RobertaTokenizer\n",
    "tokenizer = RobertaTokenizer.from_pretrained(\"roberta-base\")\n",
    "tokenizer.encode(\"hello\",add_special_tokens = False)"
   ]
  },
  {
   "cell_type": "code",
   "execution_count": null,
   "id": "cc5ec71f",
   "metadata": {},
   "outputs": [],
   "source": [
    "import re\n",
    "import nlp2\n",
    "first = True\n",
    "file_name = \"./task_datasets/squad1/dev-v1.1.json\"\n",
    "out = open('./task_datasets/squad1/dev-v1.1.csv', 'w')\n",
    "json_obj = load(file_name)\n",
    "for item in json_obj[\"data\"]:\n",
    "    for paragraph in item['paragraphs']:\n",
    "        context = paragraph['context']\n",
    "#         context_ids = tokenizer.encode(\"context\",add_special_tokens = False)\n",
    "        context_list = nlp2.split_sentence_to_array(context)\n",
    "        for qa in paragraph['qas']:\n",
    "            question = qa['question']\n",
    "            answer_text = qa['answers'][0]['text']\n",
    "            answer_start = qa['answers'][0]['answer_start']\n",
    "#             start_ids = tokenizer.encode(answer_text,add_special_tokens = False)[0]\n",
    "#             start = nlp2.split_sentence_to_array(answer_text)[0]\n",
    "#             end = nlp2.split_sentence_to_array(answer_text)[-1]\n",
    "#             end_ids = tokenizer.encode(answer_text,add_special_tokens = False)[-1]\n",
    "#             answer_start = qa['answers'][0]['answer_start']\n",
    "#             input_text_list = nlp2.split_sentence_to_array(context)\n",
    "#             answer_end = answer_start +  len(answer_text)\n",
    "            \n",
    "            if answer_start == 0:\n",
    "                s = 0\n",
    "            else:\n",
    "                s = len(nlp2.split_sentence_to_array(context[:answer_start]))\n",
    "            l = len(nlp2.split_sentence_to_array(answer_text))\n",
    "            e = s + l\n",
    "            if s>= len(nlp2.split_sentence_to_array(context)):\n",
    "                s = len(nlp2.split_sentence_to_array(context)) -1\n",
    "            if e>= len(nlp2.split_sentence_to_array(context)):\n",
    "                e = len(nlp2.split_sentence_to_array(context)) -1\n",
    "#             e = answer_text.split(\" \")[-1]\n",
    "#             context = re.sub(r'[^\\w\\s]','',context)\n",
    "#             s = re.sub(r'[^\\w\\s]','',s)\n",
    "\n",
    "#             print(answer_text,answer_start,answer_end)\n",
    "            context = context.replace(\",\",\";\")\n",
    "            question = question.replace(\",\",\";\")\n",
    "#             question = question.replace(\",\",\";\")\n",
    "#             print(context,s)\n",
    "#             ss = context.split(\" \").index(s)\n",
    "#             answer_start = context_ids.index(start_ids)\n",
    "#             answer_end = answer_start + tokenizer.encode(answer_text,add_special_tokens = False)\n",
    "    \n",
    "            \n",
    "            \n",
    "#             sentence = context + \" <s> \" + question +\", \" +str(s)+','+ str(e)\n",
    "            sentence = context + \" <s> \" + question +\", \" +str(s)+','+ str(e)\n",
    "            if first:\n",
    "                first = False\n",
    "            else:\n",
    "                out.write(\"\\n\")\n",
    "            out.write(sentence)\n",
    "            print(s,e)\n",
    "            print(sentence,answer_text)\n",
    "            \n",
    "            "
   ]
  },
  {
   "cell_type": "code",
   "execution_count": null,
   "id": "0b1161b0",
   "metadata": {},
   "outputs": [],
   "source": [
    "s = len(nlp2.split_sentence_to_array(context[:156]))"
   ]
  },
  {
   "cell_type": "code",
   "execution_count": null,
   "id": "aae28cf6",
   "metadata": {},
   "outputs": [],
   "source": [
    "s"
   ]
  },
  {
   "cell_type": "code",
   "execution_count": null,
   "id": "e45b7e69",
   "metadata": {},
   "outputs": [],
   "source": [
    "from transformers import RobertaTokenizer\n",
    "import transformers\n",
    "tokenizer = RobertaTokenizer.from_pretrained(\"roberta-base\")"
   ]
  },
  {
   "cell_type": "code",
   "execution_count": null,
   "id": "65bc0324",
   "metadata": {},
   "outputs": [],
   "source": [
    "import transformers\n",
    "processor = transformers.data.processors.squad.SquadV1Processor()\n",
    "examples = processor.get_dev_examples(\"./task_datasets/squad1/\")"
   ]
  },
  {
   "cell_type": "code",
   "execution_count": null,
   "id": "d3829a2b",
   "metadata": {},
   "outputs": [],
   "source": [
    "features = transformers.data.processors.squad.squad_convert_examples_to_features(\n",
    "    examples=examples,\n",
    "    tokenizer=tokenizer,\n",
    "    doc_stride = 128,\n",
    "    max_seq_length=512,\n",
    "    max_query_length=128,\n",
    "    is_training=True,\n",
    ")"
   ]
  },
  {
   "cell_type": "code",
   "execution_count": null,
   "id": "5091a3ae",
   "metadata": {},
   "outputs": [],
   "source": [
    "import os\n",
    "f = open('./task_datasets/squad1/dev-v1.1.csv',\"rb+\")\n",
    "f.seek(-1 ,os.SEEK_END)\n",
    "if f.next() == \"\\n\":\n",
    "    f.seek(-1 ,os.SEEK_END)\n",
    "    f.truncate()\n",
    "f.close()"
   ]
  },
  {
   "cell_type": "markdown",
   "id": "641cc92e",
   "metadata": {},
   "source": [
    "# Convert Format"
   ]
  },
  {
   "cell_type": "code",
   "execution_count": 2,
   "id": "224a144a",
   "metadata": {},
   "outputs": [],
   "source": [
    "from transformers import AutoTokenizer\n",
    "from transformers.data.processors.squad import SquadFeatures, SquadV1Processor, SquadV2Processor\n",
    "from transformers.data.processors.squad import squad_convert_examples_to_features\n",
    "processor = SquadV1Processor()"
   ]
  },
  {
   "cell_type": "markdown",
   "id": "bf2e1303",
   "metadata": {},
   "source": [
    "## Train"
   ]
  },
  {
   "cell_type": "code",
   "execution_count": null,
   "id": "973bc27d",
   "metadata": {},
   "outputs": [],
   "source": [
    "train_examples = processor.get_train_examples(\"./task_datasets/squad1/\")"
   ]
  },
  {
   "cell_type": "code",
   "execution_count": null,
   "id": "23774c28",
   "metadata": {},
   "outputs": [],
   "source": [
    "out = open('./task_datasets/squad1/train-v1.1.csv', 'w')\n",
    "first = True\n",
    "for example in train_examples:\n",
    "    context_text = example.context_text\n",
    "    question_text = example.question_text\n",
    "    start_position = example.start_position\n",
    "    end_position = example.end_position\n",
    "    context_text = context_text.replace(\"|\",\";\")\n",
    "    question_text = question_text.replace(\"|\",\";\")\n",
    "    sentence = context_text + \" <s> \" + question_text +\" | \" +str(start_position)+' | '+ str(end_position)\n",
    "    sentence = sentence.replace(\"\\n\",\"\")\n",
    "    if first:\n",
    "        first = False\n",
    "    else:\n",
    "        out.write(\"\\n\")\n",
    "    out.write(sentence)"
   ]
  },
  {
   "cell_type": "code",
   "execution_count": null,
   "id": "49090117",
   "metadata": {},
   "outputs": [],
   "source": [
    "for example in train_examples:\n",
    "    print(example.start_position)"
   ]
  },
  {
   "cell_type": "markdown",
   "id": "71296b12",
   "metadata": {},
   "source": [
    "## dev "
   ]
  },
  {
   "cell_type": "code",
   "execution_count": 7,
   "id": "f054d137",
   "metadata": {},
   "outputs": [
    {
     "name": "stderr",
     "output_type": "stream",
     "text": [
      "100%|██████████| 48/48 [00:01<00:00, 24.35it/s]\n"
     ]
    }
   ],
   "source": [
    "dev_examples = processor.get_train_examples(\"./task_datasets/squad1/dev/\")"
   ]
  },
  {
   "cell_type": "code",
   "execution_count": 8,
   "id": "ec76f991",
   "metadata": {},
   "outputs": [],
   "source": [
    "out = open('./task_datasets/squad1/dev-v1.1.csv', 'w')\n",
    "first = True\n",
    "for example in dev_examples:\n",
    "    context_text = example.context_text\n",
    "    question_text = example.question_text\n",
    "    start_position = example.start_position\n",
    "    end_position = example.end_position\n",
    "    context_text = context_text.replace(\"|\",\";\")\n",
    "    question_text = question_text.replace(\"|\",\";\")\n",
    "    sentence = context_text + \" <s> \" + question_text +\" | \" +str(start_position)+' | '+ str(end_position)\n",
    "    sentence = sentence.replace(\"\\n\",\"\")\n",
    "    if first:\n",
    "        first = False\n",
    "    else:\n",
    "        out.write(\"\\n\")\n",
    "    out.write(sentence)"
   ]
  },
  {
   "cell_type": "markdown",
   "id": "b3cda01e",
   "metadata": {},
   "source": [
    "# covid train"
   ]
  },
  {
   "cell_type": "code",
   "execution_count": null,
   "id": "9642d736",
   "metadata": {},
   "outputs": [],
   "source": [
    "train_examples = processor.get_train_examples(\"./task_datasets/covidqa/\")"
   ]
  },
  {
   "cell_type": "code",
   "execution_count": null,
   "id": "f9041fdb",
   "metadata": {},
   "outputs": [],
   "source": [
    "for example in dev_examples:\n",
    "    print(example.start_position)"
   ]
  },
  {
   "cell_type": "code",
   "execution_count": null,
   "id": "291b51ea",
   "metadata": {},
   "outputs": [],
   "source": [
    "examples"
   ]
  },
  {
   "cell_type": "code",
   "execution_count": null,
   "id": "1ef7e5bb",
   "metadata": {},
   "outputs": [],
   "source": [
    "examples[0].start_position"
   ]
  },
  {
   "cell_type": "code",
   "execution_count": null,
   "id": "298c0f2a",
   "metadata": {},
   "outputs": [],
   "source": [
    "examples[0].end_position"
   ]
  },
  {
   "cell_type": "code",
   "execution_count": null,
   "id": "07cfd7b1",
   "metadata": {},
   "outputs": [],
   "source": [
    "a = 'Architecturally, the school has a Catholic character. Atop the Main Building\\'s gold dome is a golden statue of the Virgin Mary. Immediately in front of the Main Building and facing it, is a copper statue of Christ with arms upraised with the legend \"Venite Ad Me Omnes\". Next to the Main Building is the Basilica of the Sacred Heart. Immediately behind the basilica is the Grotto, a Marian place of prayer and reflection. It is a replica of the grotto at Lourdes, France where the Virgin Mary reputedly appeared to'"
   ]
  },
  {
   "cell_type": "code",
   "execution_count": null,
   "id": "25e3943b",
   "metadata": {},
   "outputs": [],
   "source": [
    "len(a)"
   ]
  },
  {
   "cell_type": "code",
   "execution_count": null,
   "id": "a41e4f32",
   "metadata": {},
   "outputs": [],
   "source": [
    "features, dataset = squad_convert_examples_to_features(\n",
    "    examples=examples,\n",
    "    tokenizer=tokenizer,\n",
    "    max_seq_length=512,\n",
    "    doc_stride=512,\n",
    "    max_query_length=128,\n",
    "    is_training= True,\n",
    "    threads=20,\n",
    "    return_dataset=\"pt\",\n",
    "    )"
   ]
  },
  {
   "cell_type": "code",
   "execution_count": null,
   "id": "cb49dd8c",
   "metadata": {},
   "outputs": [],
   "source": [
    "features[0].input_ids[:134]"
   ]
  },
  {
   "cell_type": "code",
   "execution_count": null,
   "id": "8eb238e5",
   "metadata": {},
   "outputs": [],
   "source": [
    "features[0].start_position\n",
    "features[1].end_position"
   ]
  },
  {
   "cell_type": "code",
   "execution_count": null,
   "id": "4dc7654c",
   "metadata": {},
   "outputs": [],
   "source": [
    "len(features)"
   ]
  },
  {
   "cell_type": "code",
   "execution_count": null,
   "id": "c56cd92f",
   "metadata": {},
   "outputs": [],
   "source": [
    "pwd"
   ]
  },
  {
   "cell_type": "code",
   "execution_count": null,
   "id": "cafa5c74",
   "metadata": {},
   "outputs": [],
   "source": [
    "import torch\n",
    "s = torch.load(\"./mt-qaner/5.pt\")"
   ]
  },
  {
   "cell_type": "code",
   "execution_count": null,
   "id": "07c5aefb",
   "metadata": {},
   "outputs": [],
   "source": [
    "from transformers import RobertaForQuestionAnswering"
   ]
  },
  {
   "cell_type": "code",
   "execution_count": null,
   "id": "06219c51",
   "metadata": {},
   "outputs": [],
   "source": [
    "from transformers import RobertaTokenizer, RobertaForMaskedLM\n",
    "mlm_model = RobertaForMaskedLM.from_pretrained('./cached_models/roberta-base')"
   ]
  },
  {
   "cell_type": "code",
   "execution_count": null,
   "id": "ac12cb83",
   "metadata": {},
   "outputs": [],
   "source": [
    "mlm_model.roberta.load_state_dict(s[\"models\"][0])"
   ]
  },
  {
   "cell_type": "code",
   "execution_count": null,
   "id": "93d19790",
   "metadata": {},
   "outputs": [],
   "source": [
    "s[\"models\"][0]"
   ]
  },
  {
   "cell_type": "code",
   "execution_count": null,
   "id": "cd21e6f1",
   "metadata": {},
   "outputs": [],
   "source": [
    "s[\"model_config\"]"
   ]
  },
  {
   "cell_type": "code",
   "execution_count": null,
   "id": "6c8a9ca2",
   "metadata": {},
   "outputs": [],
   "source": []
  },
  {
   "cell_type": "code",
   "execution_count": null,
   "id": "2a7ca2c0",
   "metadata": {},
   "outputs": [],
   "source": [
    "d =dict()\n",
    "for param_tensor in s[\"models\"][0]:\n",
    "    print(param_tensor, '\\t',  s[\"models\"][0][param_tensor].size())\n",
    "    new_name = param_tensor.replace(\"pretrained.\",\"\")\n",
    "    print(new_name)\n",
    "    d[new_name] = s[\"models\"][0][param_tensor]"
   ]
  },
  {
   "cell_type": "code",
   "execution_count": null,
   "id": "2f3e57cc",
   "metadata": {},
   "outputs": [],
   "source": [
    "d"
   ]
  },
  {
   "cell_type": "code",
   "execution_count": null,
   "id": "b09ad0fe",
   "metadata": {},
   "outputs": [],
   "source": [
    "mlm_model.roberta.load_state_dict(d)"
   ]
  },
  {
   "cell_type": "code",
   "execution_count": null,
   "id": "e38ce5bd",
   "metadata": {},
   "outputs": [],
   "source": [
    "import torch\n",
    "from tasks.squad.train import BertForQA\n",
    "model = BertForQA.load_from_checkpoint(\n",
    "        checkpoint_path=\"./cached_models/roberta_squad1_2epoch/roberta_squad1_2epoch.ckpt\",\n",
    "        hparams_file=\"./outputs/roberta-base/squad1/lightning_logs/squad1_squad1/hparams.yaml\",\n",
    "        map_location=None)"
   ]
  },
  {
   "cell_type": "code",
   "execution_count": null,
   "id": "52216b76",
   "metadata": {},
   "outputs": [],
   "source": [
    "model.model.roberta.load_state_dict(d,strict = False)"
   ]
  },
  {
   "cell_type": "code",
   "execution_count": null,
   "id": "68d0aa04",
   "metadata": {},
   "outputs": [],
   "source": [
    "model.model.qa_classifier.load_state_dict(d,strict = False)"
   ]
  },
  {
   "cell_type": "code",
   "execution_count": null,
   "id": "c894bd24",
   "metadata": {},
   "outputs": [],
   "source": [
    "model.model.save_pretrained(\"./cached_models/qa_ner_mtl_2_epoch/\")"
   ]
  },
  {
   "cell_type": "code",
   "execution_count": null,
   "id": "0e28b7f5",
   "metadata": {},
   "outputs": [],
   "source": [
    "from pytorch_lightning import Trainer"
   ]
  },
  {
   "cell_type": "code",
   "execution_count": null,
   "id": "327a950e",
   "metadata": {},
   "outputs": [],
   "source": [
    "# model = MyLightningModule(hparams)\n",
    "trainer = Trainer(max_steps=0)"
   ]
  },
  {
   "cell_type": "code",
   "execution_count": null,
   "id": "ed76c971",
   "metadata": {},
   "outputs": [],
   "source": [
    "# trainer.test(model = model)\n",
    "trainer.test(model)"
   ]
  },
  {
   "cell_type": "code",
   "execution_count": null,
   "id": "9842d7ec",
   "metadata": {},
   "outputs": [],
   "source": [
    "trainer.save_checkpoint(\"./cached_models/qa_ner_mtl_2_epoch/robertqa.ckpt\")"
   ]
  },
  {
   "cell_type": "code",
   "execution_count": null,
   "id": "79a0d5f5",
   "metadata": {},
   "outputs": [],
   "source": []
  }
 ],
 "metadata": {
  "kernelspec": {
   "display_name": "Python 3",
   "language": "python",
   "name": "python3"
  },
  "language_info": {
   "codemirror_mode": {
    "name": "ipython",
    "version": 3
   },
   "file_extension": ".py",
   "mimetype": "text/x-python",
   "name": "python",
   "nbconvert_exporter": "python",
   "pygments_lexer": "ipython3",
   "version": "3.8.8"
  }
 },
 "nbformat": 4,
 "nbformat_minor": 5
}
